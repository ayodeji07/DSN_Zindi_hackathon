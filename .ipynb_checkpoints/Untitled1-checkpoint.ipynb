{
 "cells": [
  {
   "cell_type": "code",
   "execution_count": 1,
   "id": "8b1c3051",
   "metadata": {},
   "outputs": [],
   "source": [
    "import numpy as np\n",
    "import pandas as pd\n",
    "import matplotlib.pyplot as plt\n",
    "import seaborn as sns\n",
    "\n",
    "from sklearn.model_selection import train_test_split\n",
    "from sklearn.preprocessing import StandardScaler,LabelEncoder\n",
    "from sklearn.linear_model import LogisticRegression\n",
    "from sklearn.metrics import f1_score\n",
    "from datetime import datetime"
   ]
  },
  {
   "cell_type": "code",
   "execution_count": 2,
   "id": "8d8bf994",
   "metadata": {},
   "outputs": [],
   "source": [
    "train = pd.read_csv('Train.csv')\n",
    "test = pd.read_csv('Test.csv')\n",
    "samplesubmission = pd.read_csv('SampleSubmission.csv')"
   ]
  },
  {
   "cell_type": "code",
   "execution_count": 3,
   "id": "91aecf5a",
   "metadata": {},
   "outputs": [
    {
     "data": {
      "text/html": [
       "<div>\n",
       "<style scoped>\n",
       "    .dataframe tbody tr th:only-of-type {\n",
       "        vertical-align: middle;\n",
       "    }\n",
       "\n",
       "    .dataframe tbody tr th {\n",
       "        vertical-align: top;\n",
       "    }\n",
       "\n",
       "    .dataframe thead th {\n",
       "        text-align: right;\n",
       "    }\n",
       "</style>\n",
       "<table border=\"1\" class=\"dataframe\">\n",
       "  <thead>\n",
       "    <tr style=\"text-align: right;\">\n",
       "      <th></th>\n",
       "      <th>ID</th>\n",
       "      <th>Year_of_Birth</th>\n",
       "      <th>Education_Level</th>\n",
       "      <th>Marital_Status</th>\n",
       "      <th>Disposable_Income</th>\n",
       "      <th>No_of_Kids_in_home</th>\n",
       "      <th>No_of_Teen_in_home</th>\n",
       "      <th>Date_Customer</th>\n",
       "      <th>Recency</th>\n",
       "      <th>Discounted_Purchases</th>\n",
       "      <th>...</th>\n",
       "      <th>Amount_on_SweetProducts</th>\n",
       "      <th>Amount_on_GoldProds</th>\n",
       "      <th>WebVisitsMonth</th>\n",
       "      <th>Cmp3Accepted</th>\n",
       "      <th>Cmp4Accepted</th>\n",
       "      <th>Cmp5Accepted</th>\n",
       "      <th>Cmp1Accepted</th>\n",
       "      <th>Cmp2Accepted</th>\n",
       "      <th>Any_Complain</th>\n",
       "      <th>Response</th>\n",
       "    </tr>\n",
       "  </thead>\n",
       "  <tbody>\n",
       "    <tr>\n",
       "      <th>0</th>\n",
       "      <td>ID_4A9AR6FQ</td>\n",
       "      <td>1955</td>\n",
       "      <td>Graduation</td>\n",
       "      <td>Divorced</td>\n",
       "      <td>77504.4</td>\n",
       "      <td>1</td>\n",
       "      <td>1</td>\n",
       "      <td>22-06-2014</td>\n",
       "      <td>56</td>\n",
       "      <td>2</td>\n",
       "      <td>...</td>\n",
       "      <td>6</td>\n",
       "      <td>20</td>\n",
       "      <td>3</td>\n",
       "      <td>0</td>\n",
       "      <td>0</td>\n",
       "      <td>0</td>\n",
       "      <td>0</td>\n",
       "      <td>0</td>\n",
       "      <td>0</td>\n",
       "      <td>0</td>\n",
       "    </tr>\n",
       "    <tr>\n",
       "      <th>1</th>\n",
       "      <td>ID_X28T3VEK</td>\n",
       "      <td>1958</td>\n",
       "      <td>Graduation</td>\n",
       "      <td>Together</td>\n",
       "      <td>56784.0</td>\n",
       "      <td>0</td>\n",
       "      <td>1</td>\n",
       "      <td>01-08-2013</td>\n",
       "      <td>17</td>\n",
       "      <td>6</td>\n",
       "      <td>...</td>\n",
       "      <td>15</td>\n",
       "      <td>19</td>\n",
       "      <td>6</td>\n",
       "      <td>0</td>\n",
       "      <td>0</td>\n",
       "      <td>0</td>\n",
       "      <td>0</td>\n",
       "      <td>0</td>\n",
       "      <td>0</td>\n",
       "      <td>0</td>\n",
       "    </tr>\n",
       "    <tr>\n",
       "      <th>2</th>\n",
       "      <td>ID_AWXARH57</td>\n",
       "      <td>1962</td>\n",
       "      <td>Graduation</td>\n",
       "      <td>Single</td>\n",
       "      <td>103714.8</td>\n",
       "      <td>0</td>\n",
       "      <td>0</td>\n",
       "      <td>21-11-2013</td>\n",
       "      <td>17</td>\n",
       "      <td>0</td>\n",
       "      <td>...</td>\n",
       "      <td>18</td>\n",
       "      <td>37</td>\n",
       "      <td>2</td>\n",
       "      <td>0</td>\n",
       "      <td>0</td>\n",
       "      <td>0</td>\n",
       "      <td>1</td>\n",
       "      <td>0</td>\n",
       "      <td>0</td>\n",
       "      <td>1</td>\n",
       "    </tr>\n",
       "    <tr>\n",
       "      <th>3</th>\n",
       "      <td>ID_FQVZHE81</td>\n",
       "      <td>1979</td>\n",
       "      <td>2n Cycle</td>\n",
       "      <td>Single</td>\n",
       "      <td>46311.6</td>\n",
       "      <td>1</td>\n",
       "      <td>0</td>\n",
       "      <td>13-09-2013</td>\n",
       "      <td>49</td>\n",
       "      <td>3</td>\n",
       "      <td>...</td>\n",
       "      <td>24</td>\n",
       "      <td>24</td>\n",
       "      <td>8</td>\n",
       "      <td>0</td>\n",
       "      <td>0</td>\n",
       "      <td>0</td>\n",
       "      <td>0</td>\n",
       "      <td>0</td>\n",
       "      <td>0</td>\n",
       "      <td>0</td>\n",
       "    </tr>\n",
       "    <tr>\n",
       "      <th>4</th>\n",
       "      <td>ID_QVLWGPRN</td>\n",
       "      <td>1959</td>\n",
       "      <td>Graduation</td>\n",
       "      <td>Married</td>\n",
       "      <td>87486.0</td>\n",
       "      <td>0</td>\n",
       "      <td>0</td>\n",
       "      <td>21-01-2014</td>\n",
       "      <td>59</td>\n",
       "      <td>1</td>\n",
       "      <td>...</td>\n",
       "      <td>165</td>\n",
       "      <td>203</td>\n",
       "      <td>1</td>\n",
       "      <td>0</td>\n",
       "      <td>0</td>\n",
       "      <td>0</td>\n",
       "      <td>1</td>\n",
       "      <td>0</td>\n",
       "      <td>0</td>\n",
       "      <td>0</td>\n",
       "    </tr>\n",
       "  </tbody>\n",
       "</table>\n",
       "<p>5 rows × 27 columns</p>\n",
       "</div>"
      ],
      "text/plain": [
       "            ID  Year_of_Birth Education_Level Marital_Status  \\\n",
       "0  ID_4A9AR6FQ           1955      Graduation       Divorced   \n",
       "1  ID_X28T3VEK           1958      Graduation       Together   \n",
       "2  ID_AWXARH57           1962      Graduation         Single   \n",
       "3  ID_FQVZHE81           1979        2n Cycle         Single   \n",
       "4  ID_QVLWGPRN           1959      Graduation        Married   \n",
       "\n",
       "   Disposable_Income  No_of_Kids_in_home  No_of_Teen_in_home Date_Customer  \\\n",
       "0            77504.4                   1                   1    22-06-2014   \n",
       "1            56784.0                   0                   1    01-08-2013   \n",
       "2           103714.8                   0                   0    21-11-2013   \n",
       "3            46311.6                   1                   0    13-09-2013   \n",
       "4            87486.0                   0                   0    21-01-2014   \n",
       "\n",
       "   Recency  Discounted_Purchases  ...  Amount_on_SweetProducts  \\\n",
       "0       56                     2  ...                        6   \n",
       "1       17                     6  ...                       15   \n",
       "2       17                     0  ...                       18   \n",
       "3       49                     3  ...                       24   \n",
       "4       59                     1  ...                      165   \n",
       "\n",
       "   Amount_on_GoldProds  WebVisitsMonth  Cmp3Accepted  Cmp4Accepted  \\\n",
       "0                   20               3             0             0   \n",
       "1                   19               6             0             0   \n",
       "2                   37               2             0             0   \n",
       "3                   24               8             0             0   \n",
       "4                  203               1             0             0   \n",
       "\n",
       "   Cmp5Accepted  Cmp1Accepted  Cmp2Accepted  Any_Complain  Response  \n",
       "0             0             0             0             0         0  \n",
       "1             0             0             0             0         0  \n",
       "2             0             1             0             0         1  \n",
       "3             0             0             0             0         0  \n",
       "4             0             1             0             0         0  \n",
       "\n",
       "[5 rows x 27 columns]"
      ]
     },
     "execution_count": 3,
     "metadata": {},
     "output_type": "execute_result"
    }
   ],
   "source": [
    "train.head()"
   ]
  },
  {
   "cell_type": "code",
   "execution_count": null,
   "id": "a48244d1",
   "metadata": {},
   "outputs": [],
   "source": [
    "test.head()"
   ]
  },
  {
   "cell_type": "code",
   "execution_count": null,
   "id": "9e193f61",
   "metadata": {},
   "outputs": [],
   "source": [
    "samplesubmission.head()"
   ]
  },
  {
   "cell_type": "code",
   "execution_count": null,
   "id": "b7ab0705",
   "metadata": {},
   "outputs": [],
   "source": [
    "train.shape"
   ]
  },
  {
   "cell_type": "code",
   "execution_count": null,
   "id": "fc55561a",
   "metadata": {},
   "outputs": [],
   "source": [
    "test.shape"
   ]
  },
  {
   "cell_type": "code",
   "execution_count": null,
   "id": "c0521e8e",
   "metadata": {},
   "outputs": [],
   "source": [
    "target = [col for col in train.columns if col not in test.columns]\n",
    "\n",
    "target"
   ]
  },
  {
   "cell_type": "code",
   "execution_count": null,
   "id": "1ff3bbe8",
   "metadata": {},
   "outputs": [],
   "source": [
    "count = train['Response'].value_counts()\n",
    "\n",
    "count"
   ]
  },
  {
   "cell_type": "code",
   "execution_count": null,
   "id": "9185ec96",
   "metadata": {},
   "outputs": [],
   "source": [
    "plot = sns.countplot(train['Response'])\n",
    "plot.set_xticklabels([0, 1])\n",
    "plt.show"
   ]
  },
  {
   "cell_type": "code",
   "execution_count": null,
   "id": "28f92eb3",
   "metadata": {},
   "outputs": [],
   "source": [
    "train.info()"
   ]
  },
  {
   "cell_type": "code",
   "execution_count": null,
   "id": "69c53be9",
   "metadata": {},
   "outputs": [],
   "source": [
    "train.describe()"
   ]
  },
  {
   "cell_type": "code",
   "execution_count": null,
   "id": "f32ec56b",
   "metadata": {},
   "outputs": [],
   "source": [
    "test.info()"
   ]
  },
  {
   "cell_type": "code",
   "execution_count": null,
   "id": "2e6f844c",
   "metadata": {},
   "outputs": [],
   "source": [
    "corrmat = train.corr()\n",
    "f, ax = plt.subplots(figsize=(10,8))\n",
    "sns.heatmap(corrmat, square=True)"
   ]
  },
  {
   "cell_type": "code",
   "execution_count": null,
   "id": "b39facbb",
   "metadata": {},
   "outputs": [],
   "source": [
    "cat_feat = [feat for feat in train.columns if train[feat].dtype == 'O']\n",
    "\n",
    "cat_feat"
   ]
  },
  {
   "cell_type": "code",
   "execution_count": null,
   "id": "f47b17db",
   "metadata": {},
   "outputs": [],
   "source": [
    "num_feat = [feat for feat in train.columns if feat not in cat_feat]\n",
    "\n",
    "num_feat"
   ]
  },
  {
   "cell_type": "code",
   "execution_count": null,
   "id": "44fd3381",
   "metadata": {},
   "outputs": [],
   "source": [
    "train[num_feat].head()"
   ]
  },
  {
   "cell_type": "code",
   "execution_count": null,
   "id": "5130d699",
   "metadata": {},
   "outputs": [],
   "source": [
    "rem = ['Response']\n",
    "for i in rem:\n",
    "    num_feat.remove(i)\n",
    "num_feat"
   ]
  },
  {
   "cell_type": "code",
   "execution_count": null,
   "id": "ea9d920f",
   "metadata": {},
   "outputs": [],
   "source": [
    "train[num_feat].head()"
   ]
  },
  {
   "cell_type": "code",
   "execution_count": null,
   "id": "569c55a7",
   "metadata": {},
   "outputs": [],
   "source": [
    "train[num_feat].describe()"
   ]
  },
  {
   "cell_type": "code",
   "execution_count": null,
   "id": "028933c4",
   "metadata": {},
   "outputs": [],
   "source": [
    "print(train[num_feat].isnull().sum())"
   ]
  },
  {
   "cell_type": "code",
   "execution_count": null,
   "id": "2d749482",
   "metadata": {},
   "outputs": [],
   "source": [
    "updated_train = train\n",
    "updated_train['Disposable_Income'] = updated_train['Disposable_Income'].fillna(updated_train['Disposable_Income'].median())"
   ]
  },
  {
   "cell_type": "code",
   "execution_count": null,
   "id": "d42f30cc",
   "metadata": {},
   "outputs": [],
   "source": [
    "updated_train.info()"
   ]
  },
  {
   "cell_type": "code",
   "execution_count": null,
   "id": "56fb221a",
   "metadata": {},
   "outputs": [],
   "source": [
    "print(updated_train[num_feat].isnull().sum())"
   ]
  },
  {
   "cell_type": "code",
   "execution_count": null,
   "id": "28403819",
   "metadata": {},
   "outputs": [],
   "source": [
    "print(test[num_feat].isnull().sum())"
   ]
  },
  {
   "cell_type": "code",
   "execution_count": null,
   "id": "587a879e",
   "metadata": {},
   "outputs": [],
   "source": [
    "updated_test = test\n",
    "updated_test['Disposable_Income']=updated_test['Disposable_Income'].fillna(updated_test['Disposable_Income'].median())\n",
    "\n",
    "print(updated_test[num_feat].isnull().sum())"
   ]
  },
  {
   "cell_type": "code",
   "execution_count": null,
   "id": "d924519a",
   "metadata": {},
   "outputs": [],
   "source": [
    "updated_train[num_feat].info()"
   ]
  },
  {
   "cell_type": "code",
   "execution_count": null,
   "id": "b0025471",
   "metadata": {},
   "outputs": [],
   "source": [
    "scaler = StandardScaler()\n",
    "cols = num_feat\n",
    "X = scaler.fit_transform(updated_train[num_feat])\n",
    "testing = scaler.transform(updated_test[num_feat])\n",
    "X = pd.DataFrame(data=X, columns=cols)\n",
    "testing = pd. DataFrame(data=updated_test, columns=cols)\n",
    "\n",
    "X.head()"
   ]
  },
  {
   "cell_type": "code",
   "execution_count": null,
   "id": "be8ff4cc",
   "metadata": {},
   "outputs": [],
   "source": [
    "feature_importances_df = pd.DataFrame({\"feature\": list(X.columns), \"importance\": rmmodel.feature_importances_}).sort_values(\"importance\", ascending=False)\n",
    "\n",
    "feature_importances_df"
   ]
  },
  {
   "cell_type": "code",
   "execution_count": null,
   "id": "3c8a64bf",
   "metadata": {},
   "outputs": [],
   "source": [
    "X_train, X_test, y_train, y_test = train_test_split(X, updated_train.Response, stratify=updated_train.Response, test_size=0.30, random_state=42)"
   ]
  },
  {
   "cell_type": "code",
   "execution_count": null,
   "id": "02d7b04c",
   "metadata": {},
   "outputs": [],
   "source": [
    "from sklearn.ensemble import RandomForestClassifier"
   ]
  },
  {
   "cell_type": "code",
   "execution_count": null,
   "id": "b2db5f0f",
   "metadata": {},
   "outputs": [],
   "source": [
    "rmmodel = RandomForestClassifier(n_estimators=100)\n",
    "rmmodel.fit(X_train, y_train)"
   ]
  },
  {
   "cell_type": "code",
   "execution_count": null,
   "id": "3bdee948",
   "metadata": {},
   "outputs": [],
   "source": [
    "pred1 = rmmodel.predict(X_test)\n",
    "pred2 = rmmodel.predict(X_train)"
   ]
  },
  {
   "cell_type": "code",
   "execution_count": null,
   "id": "ffc9bcb1",
   "metadata": {},
   "outputs": [],
   "source": [
    "samplesubmission.head()"
   ]
  },
  {
   "cell_type": "code",
   "execution_count": null,
   "id": "a697001d",
   "metadata": {},
   "outputs": [],
   "source": [
    "submission_file = samplesubmission.copy()"
   ]
  },
  {
   "cell_type": "code",
   "execution_count": null,
   "id": "94e5c110",
   "metadata": {},
   "outputs": [],
   "source": [
    "print(rmmodel.predict(testing))"
   ]
  },
  {
   "cell_type": "code",
   "execution_count": null,
   "id": "12e1ebe3",
   "metadata": {},
   "outputs": [],
   "source": [
    "submission_file.Response = rmmodel.predict(scaler.transform(testing))"
   ]
  },
  {
   "cell_type": "code",
   "execution_count": null,
   "id": "9bc9accf",
   "metadata": {},
   "outputs": [],
   "source": [
    "submission_file.head()"
   ]
  },
  {
   "cell_type": "code",
   "execution_count": null,
   "id": "1b964814",
   "metadata": {},
   "outputs": [],
   "source": [
    "sns.countplot(submission_file.Response)\n",
    "plt.show()"
   ]
  },
  {
   "cell_type": "code",
   "execution_count": null,
   "id": "e8ef8c80",
   "metadata": {},
   "outputs": [],
   "source": [
    "submission_file.to_csv('submission1', index=False)"
   ]
  },
  {
   "cell_type": "code",
   "execution_count": null,
   "id": "11fe8fce",
   "metadata": {},
   "outputs": [],
   "source": [
    "import imblearn"
   ]
  },
  {
   "cell_type": "code",
   "execution_count": null,
   "id": "4dafd43a",
   "metadata": {},
   "outputs": [],
   "source": [
    "from imblearn.under_sampling import RandomUnderSampler\n",
    "\n",
    "rus = RandomUnderSampler(random_state=42)\n",
    "x_rus, y_rus = rus.fit_resample(updated_train[num_feat], updated_train.Response)\n",
    "\n",
    "print(updated_train.Response.value_counts())\n",
    "print(y_rus.value_counts())"
   ]
  },
  {
   "cell_type": "code",
   "execution_count": null,
   "id": "ef7837ee",
   "metadata": {},
   "outputs": [],
   "source": [
    "scaler = StandardScaler()\n",
    "cols = num_feat\n",
    "X = scaler.fit_transform(x_rus)\n",
    "testing = scaler.transform(updated_test[num_feat])\n",
    "X = pd.DataFrame(data=X, columns=cols)\n",
    "testing = pd.DataFrame(data=testing, columns=cols)\n",
    "\n",
    "# X = train[numerical_feat]\n",
    "X.head()"
   ]
  },
  {
   "cell_type": "code",
   "execution_count": null,
   "id": "8918c96c",
   "metadata": {},
   "outputs": [],
   "source": [
    "X_train, X_test, y_train, y_test = train_test_split(X, y_rus, stratify=y_rus, test_size=0.33, random_state=42)"
   ]
  },
  {
   "cell_type": "code",
   "execution_count": null,
   "id": "5944ea11",
   "metadata": {},
   "outputs": [],
   "source": [
    "rmmodel = RandomForestClassifier(n_estimators=100)\n",
    "rmmodel.fit(X_train, y_train)"
   ]
  },
  {
   "cell_type": "code",
   "execution_count": null,
   "id": "63f69463",
   "metadata": {},
   "outputs": [],
   "source": [
    "pred1 = rmmodel.predict(X_test)\n",
    "pred2 = rmmodel.predict(X_train)"
   ]
  },
  {
   "cell_type": "code",
   "execution_count": null,
   "id": "9e8b842f",
   "metadata": {},
   "outputs": [],
   "source": [
    "print('Training Set')\n",
    "print('classifier f1_score {}'.format(f1_score(y_train,pred2)))\n",
    "print(\" \")\n",
    "print('Testing Set')\n",
    "print('classifier f1_score {}'.format(f1_score(y_test,pred1)))"
   ]
  },
  {
   "cell_type": "code",
   "execution_count": null,
   "id": "59e90b59",
   "metadata": {},
   "outputs": [],
   "source": [
    "samplesubmission.head()"
   ]
  },
  {
   "cell_type": "code",
   "execution_count": null,
   "id": "39c7134c",
   "metadata": {},
   "outputs": [],
   "source": [
    "submission_file = samplesubmission.copy()"
   ]
  },
  {
   "cell_type": "code",
   "execution_count": null,
   "id": "46ec7507",
   "metadata": {},
   "outputs": [],
   "source": [
    "print(rmmodel.predict(updated_test[num_feat]))"
   ]
  },
  {
   "cell_type": "code",
   "execution_count": null,
   "id": "d8c5d35e",
   "metadata": {},
   "outputs": [],
   "source": [
    "submission_file.Response = rmmodel.predict(scaler.transform(updated_test[num_feat]))"
   ]
  },
  {
   "cell_type": "code",
   "execution_count": null,
   "id": "24f9eb17",
   "metadata": {},
   "outputs": [],
   "source": [
    "submission_file.head()"
   ]
  },
  {
   "cell_type": "code",
   "execution_count": null,
   "id": "64e8d98c",
   "metadata": {},
   "outputs": [],
   "source": [
    "sns.countplot(submission_file.Response)\n",
    "plt.show()"
   ]
  },
  {
   "cell_type": "code",
   "execution_count": null,
   "id": "efea4054",
   "metadata": {},
   "outputs": [],
   "source": [
    "submission_file.to_csv('submission24', index=False)"
   ]
  },
  {
   "cell_type": "code",
   "execution_count": null,
   "id": "95dd1b5d",
   "metadata": {},
   "outputs": [],
   "source": [
    "n_estimators = [500, 800, 1500, 5000]\n",
    "max_features = ['auto', 'sqrt', 'log2']\n",
    "max_depth = [10, 20, 30, 40, 50]\n",
    "max_depth.append(None)\n",
    "min_samples_split = [2, 5, 10, 15, 20]\n",
    "min_samples_leaf = [1, 2, 5, 10, 15]"
   ]
  },
  {
   "cell_type": "code",
   "execution_count": null,
   "id": "327b6343",
   "metadata": {},
   "outputs": [],
   "source": [
    "grid_param = {'n_estimators': n_estimators,\n",
    "             'max_features': max_features,\n",
    "             'max_depth': max_depth,\n",
    "             'min_samples_split': min_samples_split,\n",
    "             'min_samples_leaf': min_samples_leaf}"
   ]
  },
  {
   "cell_type": "code",
   "execution_count": null,
   "id": "e5bda1bd",
   "metadata": {},
   "outputs": [],
   "source": [
    "from sklearn.model_selection import RandomizedSearchCV\n",
    "RFC = RandomForestClassifier(random_state=1)\n",
    "RFC_random = RandomizedSearchCV(estimator = RFC, param_distributions = grid_param, n_iter = 500, cv =5,\n",
    "                                verbose=2, random_state=42, n_jobs = -1)"
   ]
  },
  {
   "cell_type": "code",
   "execution_count": null,
   "id": "0749ac5b",
   "metadata": {},
   "outputs": [],
   "source": [
    "RFC_random.fit(X_train, y_train)\n",
    "print(RFC_random.best_params_)"
   ]
  },
  {
   "cell_type": "code",
   "execution_count": null,
   "id": "a78fee33",
   "metadata": {},
   "outputs": [],
   "source": [
    "{'n_estimators': 800, 'min_samples_split': 2, 'min_samples_leaf': 1, 'max_features': 'auto', 'max_depth': 40}"
   ]
  }
 ],
 "metadata": {
  "kernelspec": {
   "display_name": "Python 3",
   "language": "python",
   "name": "python3"
  },
  "language_info": {
   "codemirror_mode": {
    "name": "ipython",
    "version": 3
   },
   "file_extension": ".py",
   "mimetype": "text/x-python",
   "name": "python",
   "nbconvert_exporter": "python",
   "pygments_lexer": "ipython3",
   "version": "3.8.8"
  }
 },
 "nbformat": 4,
 "nbformat_minor": 5
}
